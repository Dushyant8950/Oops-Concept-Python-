{
 "cells": [
  {
   "cell_type": "code",
   "execution_count": 1,
   "id": "4497ba41",
   "metadata": {},
   "outputs": [
    {
     "name": "stdout",
     "output_type": "stream",
     "text": [
      "ankur\n",
      "abc@gmail.com\n",
      "delhi\n"
     ]
    }
   ],
   "source": [
    "#encapsulation :  It describes the idea of wrapping data and the methods that work on data within one unit.\n",
    "# 1.\n",
    "class Test:\n",
    "    __pname=\"\" # __(Double space) is used for private data.\n",
    "    __email=\"\"\n",
    "    __city=\"\"\n",
    "    def getPname(self):\n",
    "        return self.__pname\n",
    "    def getEmail(self):\n",
    "        return self.__email\n",
    "    def getCity(self):\n",
    "        return self.__city;\n",
    "    def setPname(self,pname):\n",
    "        self.__pname=pname;\n",
    "    def setEmail(self,email):\n",
    "        self.__email=email\n",
    "    def setCity(self,city):\n",
    "        self.__city=city\n",
    "t=Test()\n",
    "t.setPname(\"ankur\");\n",
    "print(t.getPname())\n",
    "t.setEmail(\"abc@gmail.com\")\n",
    "print(t.getEmail())\n",
    "t.setCity(\"delhi\")\n",
    "print(t.getCity())      "
   ]
  },
  {
   "cell_type": "code",
   "execution_count": 2,
   "id": "20204cf0",
   "metadata": {},
   "outputs": [
    {
     "name": "stdout",
     "output_type": "stream",
     "text": [
      "Employee name is : Dushyant Sharma\n",
      "Email Address of Employee is : sharma.d8950@gmail.com\n",
      "Phone number of Employee is : \n",
      "8950576564\n",
      "City of Address of Employee is : Palwal\n",
      "Salary of Employee is : 36 lakhs per annum \n",
      "3600000\n"
     ]
    }
   ],
   "source": [
    "# 2.\n",
    "class Data:\n",
    "    __empname=\"\"\n",
    "    __email=\"\"\n",
    "    __phone=\"\"\n",
    "    __city=\"\"\n",
    "    __salary=\"\"\n",
    "    \n",
    "    def getEmpname(self):\n",
    "        return self.__empname\n",
    "    def getEmail(self):\n",
    "        return self.__email\n",
    "    def getPhone(self):\n",
    "        return self.__phone\n",
    "    def getCity(self):\n",
    "        return self.__city\n",
    "    def getSalary (self):\n",
    "        return self.__salary\n",
    "    \n",
    "    def setEmpname(self,employeename):\n",
    "        self.__empname=employeename\n",
    "    def setEmail(self,email):\n",
    "        self.__email=email\n",
    "    def setPhone(self,phone_number):\n",
    "        self.__phone=phone_number\n",
    "    def setCity(self,city):\n",
    "        self.__city=city\n",
    "    def setSalary(self,salary):\n",
    "        self.__salary=salary\n",
    "\n",
    "data=Data()\n",
    "data.setEmpname(\"Employee name is : Dushyant Sharma\")\n",
    "print(data.getEmpname())\n",
    "data.setEmail(\"Email Address of Employee is : sharma.d8950@gmail.com\")\n",
    "print(data.getEmail())\n",
    "print(\"Phone number of Employee is : \")\n",
    "data.setPhone(8950576564)\n",
    "print(data.getPhone())\n",
    "data.setCity(\"City of Address of Employee is : Palwal\")\n",
    "print(data.getCity())\n",
    "print(\"Salary of Employee is : 36 lakhs per annum \")\n",
    "data.setSalary(3600000)\n",
    "print(data.getSalary())"
   ]
  }
 ],
 "metadata": {
  "kernelspec": {
   "display_name": "Python 3 (ipykernel)",
   "language": "python",
   "name": "python3"
  },
  "language_info": {
   "codemirror_mode": {
    "name": "ipython",
    "version": 3
   },
   "file_extension": ".py",
   "mimetype": "text/x-python",
   "name": "python",
   "nbconvert_exporter": "python",
   "pygments_lexer": "ipython3",
   "version": "3.12.4"
  }
 },
 "nbformat": 4,
 "nbformat_minor": 5
}
