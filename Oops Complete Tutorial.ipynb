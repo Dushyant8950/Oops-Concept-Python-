{
 "cells": [
  {
   "cell_type": "markdown",
   "id": "12b17117-3b16-4b03-9d32-614d2cebe958",
   "metadata": {},
   "source": [
    "# 1. Classes and Objects"
   ]
  },
  {
   "cell_type": "code",
   "execution_count": 1,
   "id": "564f5340-f2ee-4a8f-8b45-c4d123fd6c0e",
   "metadata": {},
   "outputs": [
    {
     "name": "stdout",
     "output_type": "stream",
     "text": [
      "Buddy\n",
      "Golden Retriever\n",
      "Buddy says woof!\n"
     ]
    }
   ],
   "source": [
    "# Defining a simple class\n",
    "class Dog:\n",
    "    # Constructor\n",
    "    def __init__(self, name, breed):\n",
    "        self.name = name  # Instance variable\n",
    "        self.breed = breed  # Instance variable\n",
    "    \n",
    "    # Method\n",
    "    def bark(self):\n",
    "        return f\"{self.name} says woof!\"\n",
    "\n",
    "# Creating an object\n",
    "my_dog = Dog(\"Buddy\", \"Golden Retriever\")\n",
    "\n",
    "# Accessing object properties and methods\n",
    "print(my_dog.name)\n",
    "print(my_dog.breed)\n",
    "print(my_dog.bark())"
   ]
  },
  {
   "cell_type": "code",
   "execution_count": 2,
   "id": "c4b14047-8405-4772-840f-fb70447f8ac9",
   "metadata": {},
   "outputs": [
    {
     "name": "stdout",
     "output_type": "stream",
     "text": [
      "15\n",
      "5\n",
      "50\n",
      "Division by zero is not allowed.\n"
     ]
    }
   ],
   "source": [
    "class Calculator:\n",
    "    def __init__(self):\n",
    "        pass\n",
    "    \n",
    "    def add(self, a, b):\n",
    "        return a + b\n",
    "    \n",
    "    def subtract(self, a, b):\n",
    "        return a - b\n",
    "    \n",
    "    def multiply(self, a, b):\n",
    "        return a * b\n",
    "    \n",
    "    def divide(self, a, b):\n",
    "        if b != 0:\n",
    "            return a / b\n",
    "        else:\n",
    "            return \"Division by zero is not allowed.\"\n",
    "\n",
    "# Creating an object of Calculator class\n",
    "calc = Calculator()\n",
    "\n",
    "# Using methods of the Calculator class\n",
    "print(calc.add(10, 5))\n",
    "print(calc.subtract(10, 5))\n",
    "print(calc.multiply(10, 5))\n",
    "print(calc.divide(10, 0))\n"
   ]
  },
  {
   "cell_type": "code",
   "execution_count": 3,
   "id": "b4d02554-e136-4460-b6ab-59ee5abe1283",
   "metadata": {},
   "outputs": [
    {
     "name": "stdout",
     "output_type": "stream",
     "text": [
      "Name: John Doe\n",
      "Roll Number: 101\n",
      "Grade: B\n"
     ]
    }
   ],
   "source": [
    "class Student:\n",
    "    def __init__(self, name, roll_number, marks):\n",
    "        self.name = name\n",
    "        self.roll_number = roll_number\n",
    "        self.marks = marks\n",
    "    \n",
    "    def calculate_grade(self):\n",
    "        average = sum(self.marks) / len(self.marks)\n",
    "        if average >= 90:\n",
    "            return \"A\"\n",
    "        elif 80 <= average < 90:\n",
    "            return \"B\"\n",
    "        elif 70 <= average < 80:\n",
    "            return \"C\"\n",
    "        elif 60 <= average < 70:\n",
    "            return \"D\"\n",
    "        else:\n",
    "            return \"F\"\n",
    "    \n",
    "    def display_details(self):\n",
    "        print(f\"Name: {self.name}\")\n",
    "        print(f\"Roll Number: {self.roll_number}\")\n",
    "        print(f\"Grade: {self.calculate_grade()}\")\n",
    "\n",
    "# Creating an object of Student class\n",
    "student = Student(\"John Doe\", 101, [85, 90, 78, 92])\n",
    "\n",
    "# Using methods of the Student class\n",
    "student.display_details()"
   ]
  },
  {
   "cell_type": "code",
   "execution_count": 4,
   "id": "19be859a-4044-4214-824a-9b425498a18f",
   "metadata": {},
   "outputs": [
    {
     "name": "stdout",
     "output_type": "stream",
     "text": [
      "$500 deposited. New balance: $1500\n",
      "$200 withdrawn. New balance: $1300\n",
      "Current balance: $1300\n"
     ]
    }
   ],
   "source": [
    "class BankAccount:\n",
    "    def __init__(self, account_holder, balance=0):\n",
    "        self.account_holder = account_holder\n",
    "        self.balance = balance\n",
    "    \n",
    "    def deposit(self, amount):\n",
    "        if amount > 0:\n",
    "            self.balance += amount\n",
    "            return f\"${amount} deposited. New balance: ${self.balance}\"\n",
    "        else:\n",
    "            return \"Deposit amount must be positive.\"\n",
    "    \n",
    "    def withdraw(self, amount):\n",
    "        if 0 < amount <= self.balance:\n",
    "            self.balance -= amount\n",
    "            return f\"${amount} withdrawn. New balance: ${self.balance}\"\n",
    "        else:\n",
    "            return \"Insufficient funds or invalid amount.\"\n",
    "    \n",
    "    def check_balance(self):\n",
    "        return f\"Current balance: ${self.balance}\"\n",
    "\n",
    "# Creating an object of BankAccount class\n",
    "account = BankAccount(\"Alice\", 1000)\n",
    "\n",
    "# Using methods of the BankAccount class\n",
    "print(account.deposit(500))\n",
    "print(account.withdraw(200))\n",
    "print(account.check_balance())"
   ]
  },
  {
   "cell_type": "markdown",
   "id": "ff7ff070-769e-4089-bb37-dca91bcd82d1",
   "metadata": {},
   "source": [
    "# 2. Inheritance"
   ]
  },
  {
   "cell_type": "code",
   "execution_count": 5,
   "id": "55902223-3d03-45e6-924e-11b73f78ff09",
   "metadata": {},
   "outputs": [
    {
     "name": "stdout",
     "output_type": "stream",
     "text": [
      "Buddy barks!\n"
     ]
    }
   ],
   "source": [
    "# Base class\n",
    "class Animal:\n",
    "    def __init__(self, name):\n",
    "        self.name = name\n",
    "    \n",
    "    def speak(self):\n",
    "        return f\"{self.name} makes a sound.\"\n",
    "\n",
    "# Derived class\n",
    "class Dog(Animal):\n",
    "    def speak(self):\n",
    "        return f\"{self.name} barks!\"\n",
    "\n",
    "# Creating an object of the derived class\n",
    "dog = Dog(\"Buddy\")\n",
    "print(dog.speak())"
   ]
  },
  {
   "cell_type": "code",
   "execution_count": 6,
   "id": "9a5961df-8a23-45a2-b9ab-ce20b8c3fcdc",
   "metadata": {},
   "outputs": [
    {
     "name": "stdout",
     "output_type": "stream",
     "text": [
      "The engine of the Toyota Camry is starting.\n",
      "The trunk of the Toyota Camry is open.\n"
     ]
    }
   ],
   "source": [
    "# Base class\n",
    "class Vehicle:\n",
    "    def __init__(self, make, model):\n",
    "        self.make = make\n",
    "        self.model = model\n",
    "    \n",
    "    def start_engine(self):\n",
    "        return f\"The engine of the {self.make} {self.model} is starting.\"\n",
    "\n",
    "# Derived class\n",
    "class Car(Vehicle):\n",
    "    def __init__(self, make, model, doors):\n",
    "        super().__init__(make, model)  # Call the constructor of the base class\n",
    "        self.doors = doors\n",
    "    \n",
    "    def open_trunk(self):\n",
    "        return f\"The trunk of the {self.make} {self.model} is open.\"\n",
    "\n",
    "# Creating an object of the derived class\n",
    "my_car = Car(\"Toyota\", \"Camry\", 4)\n",
    "\n",
    "# Using methods from both the base and derived classes\n",
    "print(my_car.start_engine())\n",
    "print(my_car.open_trunk())"
   ]
  },
  {
   "cell_type": "code",
   "execution_count": 7,
   "id": "3d956eaf-bc7e-4b87-b283-e4c141d028d3",
   "metadata": {},
   "outputs": [
    {
     "name": "stdout",
     "output_type": "stream",
     "text": [
      "Name: Alice, Age: 35\n",
      "Employee ID: E123\n",
      "Department: IT\n"
     ]
    }
   ],
   "source": [
    "# Base class\n",
    "class Person:\n",
    "    def __init__(self, name, age):\n",
    "        self.name = name\n",
    "        self.age = age\n",
    "    \n",
    "    def display_info(self):\n",
    "        return f\"Name: {self.name}, Age: {self.age}\"\n",
    "\n",
    "# Derived class\n",
    "class Employee(Person):\n",
    "    def __init__(self, name, age, employee_id):\n",
    "        super().__init__(name, age)  # Call the constructor of the base class\n",
    "        self.employee_id = employee_id\n",
    "    \n",
    "    def display_employee_info(self):\n",
    "        return f\"Employee ID: {self.employee_id}\"\n",
    "\n",
    "# Further derived class\n",
    "class Manager(Employee):\n",
    "    def __init__(self, name, age, employee_id, department):\n",
    "        super().__init__(name, age, employee_id)  # Call the constructor of the derived class\n",
    "        self.department = department\n",
    "    \n",
    "    def display_manager_info(self):\n",
    "        return f\"Department: {self.department}\"\n",
    "\n",
    "# Creating an object of the Manager class\n",
    "manager = Manager(\"Alice\", 35, \"E123\", \"IT\")\n",
    "\n",
    "# Using methods from all the classes in the hierarchy\n",
    "print(manager.display_info())\n",
    "print(manager.display_employee_info())\n",
    "print(manager.display_manager_info())"
   ]
  },
  {
   "cell_type": "code",
   "execution_count": 8,
   "id": "5ed22dee-4495-43dc-9075-a8218d2d24f9",
   "metadata": {},
   "outputs": [
    {
     "name": "stdout",
     "output_type": "stream",
     "text": [
      "Flying with a wingspan of 20 meters.\n",
      "Sailing with a displacement of 50 tons.\n",
      "This is an amphibious vehicle.\n"
     ]
    }
   ],
   "source": [
    "# Base class 1\n",
    "class FlyingVehicle:\n",
    "    def __init__(self, wingspan):\n",
    "        self.wingspan = wingspan\n",
    "    \n",
    "    def fly(self):\n",
    "        return f\"Flying with a wingspan of {self.wingspan} meters.\"\n",
    "\n",
    "# Base class 2\n",
    "class WaterVehicle:\n",
    "    def __init__(self, displacement):\n",
    "        self.displacement = displacement\n",
    "    \n",
    "    def sail(self):\n",
    "        return f\"Sailing with a displacement of {self.displacement} tons.\"\n",
    "\n",
    "# Derived class\n",
    "class AmphibiousVehicle(FlyingVehicle, WaterVehicle):\n",
    "    def __init__(self, wingspan, displacement, vehicle_type):\n",
    "        FlyingVehicle.__init__(self, wingspan)  # Initialize FlyingVehicle part\n",
    "        WaterVehicle.__init__(self, displacement)  # Initialize WaterVehicle part\n",
    "        self.vehicle_type = vehicle_type\n",
    "    \n",
    "    def display_vehicle_type(self):\n",
    "        return f\"This is an {self.vehicle_type} vehicle.\"\n",
    "\n",
    "# Creating an object of AmphibiousVehicle class\n",
    "amphibious = AmphibiousVehicle(20, 50, \"amphibious\")\n",
    "\n",
    "# Using methods from both base classes and derived class\n",
    "print(amphibious.fly())\n",
    "print(amphibious.sail())\n",
    "print(amphibious.display_vehicle_type())"
   ]
  },
  {
   "cell_type": "markdown",
   "id": "215c0558-3136-4fec-8f97-da2d58940e27",
   "metadata": {},
   "source": [
    "# 3. Encapsulation"
   ]
  },
  {
   "cell_type": "code",
   "execution_count": 9,
   "id": "97536e92-5532-490c-8dc3-5fc96769a1bb",
   "metadata": {},
   "outputs": [
    {
     "name": "stdout",
     "output_type": "stream",
     "text": [
      "1300\n"
     ]
    }
   ],
   "source": [
    "class BankAccount:\n",
    "    def __init__(self, balance):\n",
    "        self.__balance = balance  # Private variable\n",
    "    \n",
    "    def deposit(self, amount):\n",
    "        if amount > 0:\n",
    "            self.__balance += amount\n",
    "    \n",
    "    def withdraw(self, amount):\n",
    "        if amount <= self.__balance:\n",
    "            self.__balance -= amount\n",
    "    \n",
    "    def get_balance(self):\n",
    "        return self.__balance\n",
    "\n",
    "# Creating an object\n",
    "account = BankAccount(1000)\n",
    "account.deposit(500)\n",
    "account.withdraw(200)\n",
    "print(account.get_balance())"
   ]
  },
  {
   "cell_type": "code",
   "execution_count": 10,
   "id": "03515b84-b218-4f67-b0c7-94faadd7c511",
   "metadata": {},
   "outputs": [
    {
     "name": "stdout",
     "output_type": "stream",
     "text": [
      "1300\n"
     ]
    }
   ],
   "source": [
    "class BankAccount:\n",
    "    def __init__(self, account_holder, initial_balance=0):\n",
    "        self.account_holder = account_holder\n",
    "        self.__balance = initial_balance  # Private attribute\n",
    "    \n",
    "    def deposit(self, amount):\n",
    "        if amount > 0:\n",
    "            self.__balance += amount\n",
    "        else:\n",
    "            print(\"Deposit amount must be positive.\")\n",
    "    \n",
    "    def withdraw(self, amount):\n",
    "        if 0 < amount <= self.__balance:\n",
    "            self.__balance -= amount\n",
    "        else:\n",
    "            print(\"Insufficient funds or invalid amount.\")\n",
    "    \n",
    "    def get_balance(self):\n",
    "        return self.__balance\n",
    "\n",
    "# Creating an object of BankAccount class\n",
    "account = BankAccount(\"John Doe\", 1000)\n",
    "\n",
    "# Trying to access the private attribute directly (not recommended)\n",
    "# print(account.__balance)  # AttributeError: 'BankAccount' object has no attribute '__balance'\n",
    "\n",
    "# Using public methods to interact with the balance\n",
    "account.deposit(500)\n",
    "account.withdraw(200)\n",
    "print(account.get_balance())"
   ]
  },
  {
   "cell_type": "code",
   "execution_count": 11,
   "id": "3d6855fd-d4dc-444d-a1b9-3bba7ec38481",
   "metadata": {},
   "outputs": [
    {
     "name": "stdout",
     "output_type": "stream",
     "text": [
      "30\n",
      "Name: Alice, Age: 35\n",
      "Invalid age provided.\n"
     ]
    }
   ],
   "source": [
    "class Person:\n",
    "    def __init__(self, name, age):\n",
    "        self.name = name\n",
    "        self.__age = age  # Private attribute\n",
    "    \n",
    "    def get_age(self):\n",
    "        return self.__age\n",
    "    \n",
    "    def set_age(self, age):\n",
    "        if 0 <= age <= 120:\n",
    "            self.__age = age\n",
    "        else:\n",
    "            print(\"Invalid age provided.\")\n",
    "    \n",
    "    def display_info(self):\n",
    "        return f\"Name: {self.name}, Age: {self.__age}\"\n",
    "\n",
    "# Creating an object of Person class\n",
    "person = Person(\"Alice\", 30)\n",
    "\n",
    "# Accessing and modifying the private attribute through methods\n",
    "print(person.get_age())\n",
    "person.set_age(35)\n",
    "print(person.display_info())\n",
    "\n",
    "# Trying to set an invalid age\n",
    "person.set_age(-5)"
   ]
  },
  {
   "cell_type": "code",
   "execution_count": 12,
   "id": "c8431c71-e6fc-493d-adc0-132c26c10bb6",
   "metadata": {},
   "outputs": [
    {
     "name": "stdout",
     "output_type": "stream",
     "text": [
      "Total salary with bonus for Bob: $55000.0\n"
     ]
    }
   ],
   "source": [
    "class Employee:\n",
    "    def __init__(self, name, salary):\n",
    "        self.name = name\n",
    "        self.salary = salary\n",
    "    \n",
    "    def __calculate_bonus(self):\n",
    "        # Private method for internal use\n",
    "        return self.salary * 0.10\n",
    "    \n",
    "    def display_salary_with_bonus(self):\n",
    "        bonus = self.__calculate_bonus()\n",
    "        return f\"Total salary with bonus for {self.name}: ${self.salary + bonus}\"\n",
    "\n",
    "# Creating an object of Employee class\n",
    "employee = Employee(\"Bob\", 50000)\n",
    "\n",
    "# Accessing public method that internally uses the private method\n",
    "print(employee.display_salary_with_bonus())"
   ]
  },
  {
   "cell_type": "markdown",
   "id": "05702b84-098c-4f6e-99bc-30d34f4278f5",
   "metadata": {},
   "source": [
    "# 4. Polymorphism"
   ]
  },
  {
   "cell_type": "code",
   "execution_count": 13,
   "id": "d63daed3-0435-4dfc-b992-597b2b3a5121",
   "metadata": {},
   "outputs": [
    {
     "name": "stdout",
     "output_type": "stream",
     "text": [
      "Woof!\n",
      "Meow!\n"
     ]
    }
   ],
   "source": [
    "class Cat:\n",
    "    def speak(self):\n",
    "        return \"Meow!\"\n",
    "\n",
    "class Dog:\n",
    "    def speak(self):\n",
    "        return \"Woof!\"\n",
    "\n",
    "# Polymorphism example\n",
    "def animal_sound(animal):\n",
    "    print(animal.speak())\n",
    "\n",
    "# Different objects, same interface\n",
    "dog = Dog()\n",
    "cat = Cat()\n",
    "\n",
    "animal_sound(dog)\n",
    "animal_sound(cat)"
   ]
  },
  {
   "cell_type": "code",
   "execution_count": 14,
   "id": "93b57d6c-88b8-40a1-9656-515408e49d7b",
   "metadata": {},
   "outputs": [
    {
     "name": "stdout",
     "output_type": "stream",
     "text": [
      "The animal says: Woof!\n",
      "The animal says: Meow!\n",
      "The animal says: Moo!\n"
     ]
    }
   ],
   "source": [
    "class Dog:\n",
    "    def speak(self):\n",
    "        return \"Woof!\"\n",
    "\n",
    "class Cat:\n",
    "    def speak(self):\n",
    "        return \"Meow!\"\n",
    "\n",
    "class Cow:\n",
    "    def speak(self):\n",
    "        return \"Moo!\"\n",
    "\n",
    "# Polymorphic function\n",
    "def describe_animal(animal):\n",
    "    print(f\"The animal says: {animal.speak()}\")\n",
    "\n",
    "# Using the function with different objects\n",
    "dog = Dog()\n",
    "cat = Cat()\n",
    "cow = Cow()\n",
    "\n",
    "describe_animal(dog)\n",
    "describe_animal(cat)\n",
    "describe_animal(cow)"
   ]
  },
  {
   "cell_type": "code",
   "execution_count": 15,
   "id": "fdafb4df-9114-4f02-af3e-673df59aa355",
   "metadata": {},
   "outputs": [
    {
     "name": "stdout",
     "output_type": "stream",
     "text": [
      "The area is: 50\n",
      "The area is: 153.86\n",
      "The area is: 24.0\n"
     ]
    }
   ],
   "source": [
    "class Rectangle:\n",
    "    def __init__(self, width, height):\n",
    "        self.width = width\n",
    "        self.height = height\n",
    "    \n",
    "    def area(self):\n",
    "        return self.width * self.height\n",
    "\n",
    "class Circle:\n",
    "    def __init__(self, radius):\n",
    "        self.radius = radius\n",
    "    \n",
    "    def area(self):\n",
    "        return 3.14 * (self.radius ** 2)\n",
    "\n",
    "class Triangle:\n",
    "    def __init__(self, base, height):\n",
    "        self.base = base\n",
    "        self.height = height\n",
    "    \n",
    "    def area(self):\n",
    "        return 0.5 * self.base * self.height\n",
    "\n",
    "# Polymorphic function\n",
    "def print_area(shape):\n",
    "    print(f\"The area is: {shape.area()}\")\n",
    "\n",
    "# Using the function with different objects\n",
    "rectangle = Rectangle(5, 10)\n",
    "circle = Circle(7)\n",
    "triangle = Triangle(6, 8)\n",
    "\n",
    "print_area(rectangle)\n",
    "print_area(circle)\n",
    "print_area(triangle)"
   ]
  },
  {
   "cell_type": "code",
   "execution_count": 16,
   "id": "55737f6a-c33f-44b5-bd2d-6aaacdd97840",
   "metadata": {},
   "outputs": [
    {
     "name": "stdout",
     "output_type": "stream",
     "text": [
      "Manager is planning.\n",
      "Developer is coding.\n",
      "Designer is designing.\n"
     ]
    }
   ],
   "source": [
    "class Employee:\n",
    "    def work(self):\n",
    "        return \"Employee is working.\"\n",
    "\n",
    "class Manager(Employee):\n",
    "    def work(self):\n",
    "        return \"Manager is planning.\"\n",
    "\n",
    "class Developer(Employee):\n",
    "    def work(self):\n",
    "        return \"Developer is coding.\"\n",
    "\n",
    "class Designer(Employee):\n",
    "    def work(self):\n",
    "        return \"Designer is designing.\"\n",
    "\n",
    "# Polymorphic function\n",
    "def employee_work(employee):\n",
    "    print(employee.work())\n",
    "\n",
    "# Using the function with different objects\n",
    "manager = Manager()\n",
    "developer = Developer()\n",
    "designer = Designer()\n",
    "\n",
    "employee_work(manager)\n",
    "employee_work(developer)\n",
    "employee_work(designer)"
   ]
  },
  {
   "cell_type": "markdown",
   "id": "346ec3fb-307b-41dc-a451-ea55dea4a047",
   "metadata": {},
   "source": [
    "# 5. Abstraction"
   ]
  },
  {
   "cell_type": "code",
   "execution_count": 17,
   "id": "46283cf6-0b83-4c95-894e-9c98ab26cb36",
   "metadata": {},
   "outputs": [
    {
     "name": "stdout",
     "output_type": "stream",
     "text": [
      "Woof!\n",
      "Meow!\n"
     ]
    }
   ],
   "source": [
    "from abc import ABC, abstractmethod\n",
    "\n",
    "# Abstract class\n",
    "class Animal(ABC):\n",
    "    @abstractmethod\n",
    "    def speak(self):\n",
    "        pass\n",
    "\n",
    "class Dog(Animal):\n",
    "    def speak(self):\n",
    "        return \"Woof!\"\n",
    "\n",
    "class Cat(Animal):\n",
    "    def speak(self):\n",
    "        return \"Meow!\"\n",
    "\n",
    "# Creating objects\n",
    "dog = Dog()\n",
    "cat = Cat()\n",
    "\n",
    "print(dog.speak())\n",
    "print(cat.speak())"
   ]
  },
  {
   "cell_type": "code",
   "execution_count": 18,
   "id": "08b9ccf5-0fe4-4cb7-8b7c-c27be8896fcd",
   "metadata": {},
   "outputs": [
    {
     "name": "stdout",
     "output_type": "stream",
     "text": [
      "Area of rectangle: 50\n",
      "Area of circle: 153.86\n"
     ]
    }
   ],
   "source": [
    "from abc import ABC, abstractmethod\n",
    "\n",
    "# Abstract Base Class\n",
    "class Shape(ABC):\n",
    "    @abstractmethod\n",
    "    def area(self):\n",
    "        pass\n",
    "\n",
    "# Derived Class 1\n",
    "class Rectangle(Shape):\n",
    "    def __init__(self, width, height):\n",
    "        self.width = width\n",
    "        self.height = height\n",
    "    \n",
    "    def area(self):\n",
    "        return self.width * self.height\n",
    "\n",
    "# Derived Class 2\n",
    "class Circle(Shape):\n",
    "    def __init__(self, radius):\n",
    "        self.radius = radius\n",
    "    \n",
    "    def area(self):\n",
    "        return 3.14 * (self.radius ** 2)\n",
    "\n",
    "# Creating objects\n",
    "rectangle = Rectangle(5, 10)\n",
    "circle = Circle(7)\n",
    "\n",
    "# Using the abstract method\n",
    "print(f\"Area of rectangle: {rectangle.area()}\")\n",
    "print(f\"Area of circle: {circle.area()}\")"
   ]
  },
  {
   "cell_type": "code",
   "execution_count": 19,
   "id": "87c0ba31-60d3-43c6-ac3c-a21f32af4ae8",
   "metadata": {},
   "outputs": [
    {
     "name": "stdout",
     "output_type": "stream",
     "text": [
      "$500 deposited.\n",
      "$200 withdrawn.\n",
      "Current balance: $1300\n"
     ]
    }
   ],
   "source": [
    "class BankAccount:\n",
    "    def __init__(self, account_holder, initial_balance=0):\n",
    "        self.account_holder = account_holder\n",
    "        self._balance = initial_balance  # Protected attribute\n",
    "    \n",
    "    def deposit(self, amount):\n",
    "        if amount > 0:\n",
    "            self._balance += amount\n",
    "            return f\"${amount} deposited.\"\n",
    "        return \"Deposit amount must be positive.\"\n",
    "    \n",
    "    def withdraw(self, amount):\n",
    "        if 0 < amount <= self._balance:\n",
    "            self._balance -= amount\n",
    "            return f\"${amount} withdrawn.\"\n",
    "        return \"Insufficient funds or invalid amount.\"\n",
    "    \n",
    "    def check_balance(self):\n",
    "        return f\"Current balance: ${self._balance}\"\n",
    "\n",
    "# Creating an object of BankAccount class\n",
    "account = BankAccount(\"John Doe\", 1000)\n",
    "\n",
    "# Using the abstracted methods\n",
    "print(account.deposit(500))\n",
    "print(account.withdraw(200))\n",
    "print(account.check_balance())"
   ]
  },
  {
   "cell_type": "code",
   "execution_count": 20,
   "id": "2001bfdf-f85b-4efd-bccc-d27b91616b18",
   "metadata": {},
   "outputs": [
    {
     "name": "stdout",
     "output_type": "stream",
     "text": [
      "Processing credit card payment of $100\n",
      "Processing PayPal payment of $150\n"
     ]
    }
   ],
   "source": [
    "from abc import ABC, abstractmethod\n",
    "\n",
    "# Abstract Base Class\n",
    "class Payment(ABC):\n",
    "    @abstractmethod\n",
    "    def pay(self, amount):\n",
    "        pass\n",
    "\n",
    "# Derived Class 1\n",
    "class CreditCardPayment(Payment):\n",
    "    def pay(self, amount):\n",
    "        return f\"Processing credit card payment of ${amount}\"\n",
    "\n",
    "# Derived Class 2\n",
    "class PayPalPayment(Payment):\n",
    "    def pay(self, amount):\n",
    "        return f\"Processing PayPal payment of ${amount}\"\n",
    "\n",
    "# Function using abstraction\n",
    "def process_payment(payment_method, amount):\n",
    "    print(payment_method.pay(amount))\n",
    "\n",
    "# Using different payment methods\n",
    "credit_card = CreditCardPayment()\n",
    "paypal = PayPalPayment()\n",
    "\n",
    "process_payment(credit_card, 100)\n",
    "process_payment(paypal, 150)"
   ]
  },
  {
   "cell_type": "markdown",
   "id": "80032986-8a64-4312-83dc-72e21e8154c7",
   "metadata": {},
   "source": [
    "# 6. Special Methods"
   ]
  },
  {
   "cell_type": "code",
   "execution_count": 21,
   "id": "e920eb2f-8c2f-4186-9552-80a645c8dc2a",
   "metadata": {},
   "outputs": [
    {
     "name": "stdout",
     "output_type": "stream",
     "text": [
      "Python 101 by John Doe\n",
      "350\n"
     ]
    }
   ],
   "source": [
    "class Book:\n",
    "    def __init__(self, title, author, pages):\n",
    "        self.title = title\n",
    "        self.author = author\n",
    "        self.pages = pages\n",
    "    \n",
    "    def __str__(self):\n",
    "        return f\"{self.title} by {self.author}\"\n",
    "    \n",
    "    def __len__(self):\n",
    "        return self.pages\n",
    "\n",
    "# Creating an object\n",
    "book = Book(\"Python 101\", \"John Doe\", 350)\n",
    "\n",
    "# Using special methods\n",
    "print(str(book))\n",
    "print(len(book))"
   ]
  },
  {
   "cell_type": "code",
   "execution_count": 22,
   "id": "3962b397-0903-496b-98e4-d57f3c922cc4",
   "metadata": {},
   "outputs": [
    {
     "name": "stdout",
     "output_type": "stream",
     "text": [
      "Person(name=Alice, age=30)\n"
     ]
    }
   ],
   "source": [
    "class Person:\n",
    "    def __init__(self, name, age):\n",
    "        self.name = name\n",
    "        self.age = age\n",
    "    \n",
    "    def __str__(self):\n",
    "        return f\"Person(name={self.name}, age={self.age})\"\n",
    "\n",
    "# Creating an object of the Person class\n",
    "person = Person(\"Alice\", 30)\n",
    "\n",
    "# The __str__ method is called when we print the object\n",
    "print(person)"
   ]
  },
  {
   "cell_type": "code",
   "execution_count": 23,
   "id": "cbfa0305-fee5-43e7-be58-5f2b39ecf84d",
   "metadata": {},
   "outputs": [
    {
     "name": "stdout",
     "output_type": "stream",
     "text": [
      "Point(4, 6)\n"
     ]
    }
   ],
   "source": [
    "class Point:\n",
    "    def __init__(self, x, y):\n",
    "        self.x = x\n",
    "        self.y = y\n",
    "    \n",
    "    def __add__(self, other):\n",
    "        return Point(self.x + other.x, self.y + other.y)\n",
    "    \n",
    "    def __str__(self):\n",
    "        return f\"Point({self.x}, {self.y})\"\n",
    "\n",
    "# Creating two Point objects\n",
    "point1 = Point(1, 2)\n",
    "point2 = Point(3, 4)\n",
    "\n",
    "# Using the + operator with Point objects\n",
    "result = point1 + point2\n",
    "print(result)\n"
   ]
  },
  {
   "cell_type": "code",
   "execution_count": 24,
   "id": "f94b308e-570b-441c-af38-e3fe41149333",
   "metadata": {},
   "outputs": [
    {
     "name": "stdout",
     "output_type": "stream",
     "text": [
      "5\n",
      "3\n"
     ]
    }
   ],
   "source": [
    "class CustomList:\n",
    "    def __init__(self, items):\n",
    "        self.items = items\n",
    "    \n",
    "    def __len__(self):\n",
    "        return len(self.items)\n",
    "    \n",
    "    def __getitem__(self, index):\n",
    "        return self.items[index]\n",
    "\n",
    "# Creating an object of CustomList class\n",
    "my_list = CustomList([1, 2, 3, 4, 5])\n",
    "\n",
    "# Using len() function and indexing on CustomList object\n",
    "print(len(my_list))\n",
    "print(my_list[2])\n"
   ]
  }
 ],
 "metadata": {
  "kernelspec": {
   "display_name": "Python 3 (ipykernel)",
   "language": "python",
   "name": "python3"
  },
  "language_info": {
   "codemirror_mode": {
    "name": "ipython",
    "version": 3
   },
   "file_extension": ".py",
   "mimetype": "text/x-python",
   "name": "python",
   "nbconvert_exporter": "python",
   "pygments_lexer": "ipython3",
   "version": "3.12.4"
  }
 },
 "nbformat": 4,
 "nbformat_minor": 5
}
