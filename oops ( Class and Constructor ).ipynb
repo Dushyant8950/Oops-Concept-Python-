{
 "cells": [
  {
   "cell_type": "code",
   "execution_count": 2,
   "id": "6acbc597",
   "metadata": {},
   "outputs": [],
   "source": [
    "# oops :-\n",
    "# - oops concept in python to implements real life based application.\n",
    "# - The oops concept provides multiple type features to implement the real life based application.\n",
    "#   1. class\n",
    "#   2. object\n",
    "#   3. constructor = __init__\n",
    "#   4. self.keywords \n",
    "#   5. inheritance\n",
    "#   6. polymorphism\n",
    "#   7. modifies\n",
    "#   8. data hideing and data binding  "
   ]
  },
  {
   "cell_type": "code",
   "execution_count": 4,
   "id": "1e43a547",
   "metadata": {},
   "outputs": [
    {
     "name": "stdout",
     "output_type": "stream",
     "text": [
      "your product name: mobile\n",
      "your prate: 34000\n",
      "your pqty: 4\n",
      "amount= 136000\n",
      "discount= 13600.0\n",
      "paymount= 122400.0\n",
      "your product name: laptop\n",
      "your prate: 46000\n",
      "your pqty: 4\n",
      "amount= 184000\n",
      "discount= 18400.0\n",
      "paymount= 165600.0\n"
     ]
    }
   ],
   "source": [
    "# implement product class :-\n",
    "class Product:\n",
    "    pname=\"\"\n",
    "    prate=0\n",
    "    pqty=0\n",
    "    \n",
    "    def __init__(self,pn,pr,pq):\n",
    "        self.pname=pn\n",
    "        self.prate=pr\n",
    "        self.pqty=pq\n",
    "    def result(self):\n",
    "        amt=self.prate*self.pqty\n",
    "        dis=amt*10/100\n",
    "        pmt=amt-dis\n",
    "        print(\"your product name:\",self.pname)\n",
    "        print(\"your prate:\",self.prate)\n",
    "        print(\"your pqty:\",self.pqty)\n",
    "        print(\"amount=\",amt)\n",
    "        print(\"discount=\",dis)\n",
    "        print(\"paymount=\",pmt)\n",
    "\n",
    "p=Product(\"mobile\",34000,4)\n",
    "p.result()\n",
    "p1=Product(\"laptop\",46000,4)\n",
    "p1.result()"
   ]
  },
  {
   "cell_type": "code",
   "execution_count": 5,
   "id": "c9622fb7",
   "metadata": {},
   "outputs": [
    {
     "name": "stdout",
     "output_type": "stream",
     "text": [
      "Employee name is: vivek\n",
      "Your salary is: 1400000\n",
      "Total TA= 70000.0\n",
      "Total DA= 140000.0\n",
      "Total HRA= 210000.0\n",
      "Total Salary is= 980000.0\n"
     ]
    }
   ],
   "source": [
    "# inmplement employee class :\n",
    "class employee:\n",
    "    empname=\"\"\n",
    "    salary=0\n",
    "    \n",
    "    def __init__(self,en,sa):\n",
    "        self.empname=en\n",
    "        self.salary=sa\n",
    "\n",
    "    def result(self):\n",
    "        salary=self.salary\n",
    "        total_ta=salary*5/100\n",
    "        total_da=salary*10/100\n",
    "        total_hra=salary*15/100\n",
    "        total_salary=salary-(total_ta + total_da + total_hra)\n",
    "        print(\"Employee name is:\",self.empname)\n",
    "        print(\"Your salary is:\",self.salary)\n",
    "        print(\"Total TA=\",total_ta)\n",
    "        print(\"Total DA=\",total_da)\n",
    "        print(\"Total HRA=\",total_hra)\n",
    "        print(\"Total Salary is=\",total_salary)\n",
    "p=employee(\"vivek\",1400000)\n",
    "p.result()"
   ]
  },
  {
   "cell_type": "code",
   "execution_count": 6,
   "id": "0a790536",
   "metadata": {
    "scrolled": true
   },
   "outputs": [
    {
     "name": "stdout",
     "output_type": "stream",
     "text": [
      "enter 1 for Deposite amount\n",
      "enter 2 for withdraw amount\n",
      "enter 3 for Check balance\n",
      "\n"
     ]
    },
    {
     "name": "stdin",
     "output_type": "stream",
     "text": [
      "choose operator: 2\n",
      "withdraw amount is = 3400\n"
     ]
    },
    {
     "name": "stdout",
     "output_type": "stream",
     "text": [
      "Client Name = ajay\n",
      "Available Balance is = 46600\n"
     ]
    },
    {
     "name": "stdin",
     "output_type": "stream",
     "text": [
      "choose operator: 2\n",
      "withdraw amount is = 5000\n"
     ]
    },
    {
     "name": "stdout",
     "output_type": "stream",
     "text": [
      "Client Name = ajay\n",
      "Available Balance is = 41600\n"
     ]
    },
    {
     "name": "stdin",
     "output_type": "stream",
     "text": [
      "choose operator: 3\n"
     ]
    },
    {
     "name": "stdout",
     "output_type": "stream",
     "text": [
      "Client Name = ajay\n",
      "Available Balance is = 41600\n"
     ]
    },
    {
     "name": "stdin",
     "output_type": "stream",
     "text": [
      "choose operator: 1\n",
      "Deposite amount is = 1200\n"
     ]
    },
    {
     "name": "stdout",
     "output_type": "stream",
     "text": [
      "Client Name = ajay\n",
      "Available Balance is = 42800\n"
     ]
    }
   ],
   "source": [
    "# implement bank class :\n",
    "def data():\n",
    "    print(\"enter 1 for Deposite amount\")\n",
    "    print(\"enter 2 for withdraw amount\")\n",
    "    print(\"enter 3 for Check balance\")\n",
    "data()\n",
    "print()\n",
    "class Bank :\n",
    "    client_name=\"\"\n",
    "    amount=0\n",
    "    \n",
    "    def __init__(self,cn,amt):\n",
    "        self.client_name=cn\n",
    "        self.amount=amt\n",
    "\n",
    "    def deposite(self):\n",
    "        deposite_amount=int(input(\"Deposite amount is =\"))\n",
    "        self.amount=self.amount + deposite_amount\n",
    "        print(\"Client Name =\",self.client_name)\n",
    "        print(\"Available Balance is =\",self.amount)\n",
    "            \n",
    "    def withdraw(self):\n",
    "        withdraw_amount=int(input(\"withdraw amount is =\"))\n",
    "        self.amount=self.amount - withdraw_amount\n",
    "        print(\"Client Name =\",self.client_name)\n",
    "        print(\"Available Balance is =\",self.amount)\n",
    "        \n",
    "    def balance(self):\n",
    "        self.amount=self.amount\n",
    "        print(\"Client Name =\",self.client_name)\n",
    "        print(\"Available Balance is =\",self.amount)\n",
    "        \n",
    "c=Bank(\"ajay\",50000)\n",
    "for i in range(4):\n",
    "    \n",
    "    a=int(input(\"choose operator:\"))\n",
    "    if a==1:\n",
    "        c.deposite()\n",
    "    if a==2:\n",
    "        c.withdraw()\n",
    "    if a==3:\n",
    "        c.balance()"
   ]
  },
  {
   "cell_type": "code",
   "execution_count": 7,
   "id": "04bd9a44",
   "metadata": {},
   "outputs": [
    {
     "name": "stdout",
     "output_type": "stream",
     "text": [
      "Details of Person :-\n",
      "Name :  Dushyant Sharma\n",
      "Country :  India\n",
      "Date oF Birth :  2003-12-29\n"
     ]
    }
   ],
   "source": [
    "# Write a Python program to create a person class. Include attributes  like name, country and date of birth. Implement a method to  determine the person’s age.\n",
    "\n",
    "# from datetime import date\n",
    "class Person:\n",
    "    def __init__(self,pname,country,dob):\n",
    "        self.name=pname\n",
    "        self.country=country\n",
    "        self.date_of_birth=dob\n",
    "#     def calculate_age(self):\n",
    "#         today = date.today()\n",
    "#         age = today.year - date_of_birth.year -((today.month, today.day) <(date_of_birth.month, date_of_birth.day))\n",
    "#         return age\n",
    "person=Person(\"Dushyant Sharma\",\"India\",\"2003-12-29\")\n",
    "print(\"Details of Person :-\")\n",
    "print(\"Name : \",person.name)\n",
    "print(\"Country : \",person.country)\n",
    "print(\"Date oF Birth : \",person.date_of_birth)\n",
    "# print(\"Age : \",person.calculate_age(date(2003,12,29),\"years\"))"
   ]
  },
  {
   "cell_type": "code",
   "execution_count": 8,
   "id": "95e073c7",
   "metadata": {},
   "outputs": [
    {
     "name": "stdout",
     "output_type": "stream",
     "text": [
      "27 years\n"
     ]
    }
   ],
   "source": [
    "from datetime import date\n",
    " \n",
    "def calculateAge(birthDate):\n",
    "    today = date.today()\n",
    "    age = today.year - birthDate.year -((today.month, today.day) <(birthDate.month, birthDate.day))\n",
    " \n",
    "    return age\n",
    "     \n",
    "# Driver code \n",
    "print(calculateAge(date(1997, 2, 3)), \"years\")"
   ]
  }
 ],
 "metadata": {
  "kernelspec": {
   "display_name": "Python 3 (ipykernel)",
   "language": "python",
   "name": "python3"
  },
  "language_info": {
   "codemirror_mode": {
    "name": "ipython",
    "version": 3
   },
   "file_extension": ".py",
   "mimetype": "text/x-python",
   "name": "python",
   "nbconvert_exporter": "python",
   "pygments_lexer": "ipython3",
   "version": "3.12.4"
  }
 },
 "nbformat": 4,
 "nbformat_minor": 5
}
