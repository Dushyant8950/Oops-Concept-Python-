{
 "cells": [
  {
   "cell_type": "code",
   "execution_count": 2,
   "id": "4c769009",
   "metadata": {},
   "outputs": [
    {
     "name": "stdout",
     "output_type": "stream",
     "text": [
      "sum = 82\n"
     ]
    }
   ],
   "source": [
    "# overloading :- Method Overloading in Python is a type of Compile-time Polymorphism using which we can define two or more methods in the same class with the same name but with a different parameter list.\n",
    "# achive only bottom :-\n",
    "class A:\n",
    "    def sum(self,a,b):\n",
    "        s=a+b\n",
    "        print(\"sum=\",s)\n",
    "    def sum(self,a,b,c):\n",
    "        s=a+b+c\n",
    "        print(\"sum =\",s)\n",
    "result=A()\n",
    "result.sum(20,39,23)"
   ]
  },
  {
   "cell_type": "code",
   "execution_count": 3,
   "id": "27be2239",
   "metadata": {},
   "outputs": [
    {
     "name": "stdout",
     "output_type": "stream",
     "text": [
      "Result = 80\n",
      "Result =  Hi, Dushyant Sharma\n"
     ]
    }
   ],
   "source": [
    "# 2.\n",
    "# function to take multiple argument :-\n",
    "def add(datatype,*args):\n",
    "    if datatype==\"int\":\n",
    "        answer=0\n",
    "    if datatype==\"str\":\n",
    "        answer=\" \"\n",
    "    for x in args:\n",
    "        answer=answer + x\n",
    "    print(\"Result =\",answer)\n",
    "# integer :-\n",
    "add(\"int\",34,46)\n",
    "# string :-\n",
    "add(\"str\",\"Hi, \",\"Dushyant Sharma\")"
   ]
  },
  {
   "cell_type": "code",
   "execution_count": 4,
   "id": "08dd70b2",
   "metadata": {},
   "outputs": [
    {
     "name": "stdout",
     "output_type": "stream",
     "text": [
      "AS = 50\n",
      "BS = 50\n"
     ]
    }
   ],
   "source": [
    "# overriding :- Method Overriding is the process of redefining certain methods and attributes to fit the child class.\n",
    "# 1.\n",
    "class A:\n",
    "    def sum(self,a,b):\n",
    "        s=a+b\n",
    "        print(\"AS =\",s)\n",
    "class B(A):\n",
    "    def sum(self,a,b):\n",
    "        s=a+b\n",
    "        print(\"BS =\",s)\n",
    "a=A()\n",
    "b=B()\n",
    "for i in (a,b):\n",
    "    i.sum(20,30)"
   ]
  },
  {
   "cell_type": "code",
   "execution_count": 5,
   "id": "2bc2b2e6",
   "metadata": {},
   "outputs": [
    {
     "name": "stdout",
     "output_type": "stream",
     "text": [
      "Capital is : Delhi\n",
      "Capital is : Washington\n"
     ]
    }
   ],
   "source": [
    "2.\n",
    "class India:\n",
    "    def language(self):\n",
    "        print(\"Language is : Hindi\")\n",
    "    def capital(self):\n",
    "        print(\"Capital is : Delhi\")\n",
    "class USA:\n",
    "    def language(self):\n",
    "            print(\"Language is : United English\")\n",
    "    def capital(self):\n",
    "        print(\"Capital is : Washington\")\n",
    "\n",
    "I=India()\n",
    "U=USA()\n",
    "for i in (I,U):\n",
    "    i.capital()"
   ]
  }
 ],
 "metadata": {
  "kernelspec": {
   "display_name": "Python 3 (ipykernel)",
   "language": "python",
   "name": "python3"
  },
  "language_info": {
   "codemirror_mode": {
    "name": "ipython",
    "version": 3
   },
   "file_extension": ".py",
   "mimetype": "text/x-python",
   "name": "python",
   "nbconvert_exporter": "python",
   "pygments_lexer": "ipython3",
   "version": "3.12.4"
  }
 },
 "nbformat": 4,
 "nbformat_minor": 5
}
