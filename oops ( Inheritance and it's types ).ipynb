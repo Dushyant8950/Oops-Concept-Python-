{
 "cells": [
  {
   "cell_type": "code",
   "execution_count": 40,
   "id": "99911624",
   "metadata": {},
   "outputs": [],
   "source": [
    "# - Inheritance is a oops concept which is used to inherit property from parent class.\n",
    "# - It is main used for code reusebility purpose.\n",
    "# - Inheritance improve the performance of the application.\n",
    "# - 4 types of Inheritance :-\n",
    "#     1. Single inheritance \n",
    "#     2. Multi-level inheritance\n",
    "#     3. Heirarchy inheritance\n",
    "#     4. Multiple inheritance "
   ]
  },
  {
   "cell_type": "code",
   "execution_count": 41,
   "id": "85696652",
   "metadata": {},
   "outputs": [
    {
     "name": "stdout",
     "output_type": "stream",
     "text": [
      "sum= 44\n",
      "mul 276\n"
     ]
    }
   ],
   "source": [
    "# Single inheritance :-\n",
    "# 1.\n",
    "class A:\n",
    "    def sum(self,a,b):\n",
    "        s=a+b\n",
    "        print(\"sum=\",s)\n",
    "class B(A):\n",
    "    def mul(self,x,y):\n",
    "        m=x*y\n",
    "        print(\"mul\",m)\n",
    "b=B()\n",
    "b.sum(10,34)\n",
    "b.mul(12,23)"
   ]
  },
  {
   "cell_type": "code",
   "execution_count": 42,
   "id": "7ea7a0d4",
   "metadata": {},
   "outputs": [
    {
     "name": "stdout",
     "output_type": "stream",
     "text": [
      "Name  : Nokia 1100\n",
      "Year  : 1998\n",
      "Company  : Nokia India\n",
      "Website  : www.Nokia-IND.com\n",
      "Address  : Chatrapati Shivaji Nagar, near bus stand, Palwal, Haryana, 121102\n"
     ]
    }
   ],
   "source": [
    "# 2. \n",
    "class Nokia:\n",
    "    company=\"Nokia India\"\n",
    "    website=\"www.Nokia-IND.com\"\n",
    "    def contact_details(self):\n",
    "        print(\"Address  : Chatrapati Shivaji Nagar, near bus stand, Palwal, Haryana, 121102\")\n",
    "class Nokia1100(Nokia):\n",
    "    def __init__(self):\n",
    "        self.name=\"Nokia 1100\"\n",
    "        self.year=1998\n",
    "    def product_details(self):\n",
    "        print(\"Name  :\",self.name)\n",
    "        print(\"Year  :\",self.year)\n",
    "        print(\"Company  :\",self.company)\n",
    "        print(\"Website  :\",self.website)\n",
    "Mobile=Nokia1100()\n",
    "Mobile.product_details()\n",
    "Mobile.contact_details()"
   ]
  },
  {
   "cell_type": "code",
   "execution_count": 43,
   "id": "3ba5a392",
   "metadata": {},
   "outputs": [
    {
     "name": "stdout",
     "output_type": "stream",
     "text": [
      "Details Of Bus :-\n",
      "Name:  Ashok Leyland , Color:  White and Black , Max_Speed:  50-60 kmph , Mileage:  5-6 kmpl , Seat:  18-80 seater\n",
      "Details Of Car :-\n",
      "Name:  Eeco , Color:  Grey and Black , Max_Speed:  145 kmph , Mileage:  20 kmpl , Seat:  7 seater\n"
     ]
    }
   ],
   "source": [
    "# 3. \n",
    "class Vehicle:\n",
    "    bus_color=\"White and Black\"\n",
    "    car_color = \"Grey and Black\"\n",
    "    def __init__(self, name, max_speed, mileage, seat):\n",
    "        self.name=name\n",
    "        self.max_speed=max_speed\n",
    "        self.mileage=mileage\n",
    "        self.seat=seat\n",
    "class Bus(Vehicle):\n",
    "    pass\n",
    "class Car(Vehicle):\n",
    "    pass\n",
    "bus=Bus(\"Ashok Leyland\",\"50-60 kmph\",\"5-6 kmpl\",\"18-80 seater\")\n",
    "print(\"Details Of Bus :-\")\n",
    "print(\"Name: \",bus.name,\", Color: \",bus.bus_color,\", Max_Speed: \",bus.max_speed,\", Mileage: \",bus.mileage,\", Seat: \",bus.seat)\n",
    "print(\"Details Of Car :-\")\n",
    "car=Car(\"Eeco\",\"145 kmph\",\"20 kmpl\",\"7 seater\")\n",
    "print(\"Name: \",car.name,\", Color: \",car.car_color,\", Max_Speed: \",car.max_speed,\", Mileage: \",car.mileage,\", Seat: \",car.seat)"
   ]
  },
  {
   "cell_type": "code",
   "execution_count": 44,
   "id": "fc20169e",
   "metadata": {},
   "outputs": [
    {
     "name": "stdout",
     "output_type": "stream",
     "text": [
      "Total Bus fare is: 5000\n"
     ]
    }
   ],
   "source": [
    "# 4.\n",
    "class Vehicle:\n",
    "    def __init__(self, name, mileage, capacity):\n",
    "        self.name = name\n",
    "        self.mileage = mileage\n",
    "        self.capacity = capacity\n",
    "\n",
    "    def fare(self):\n",
    "        return self.capacity * 100\n",
    "\n",
    "class Bus(Vehicle):\n",
    "    pass\n",
    "\n",
    "School_bus = Bus(\"School Volvo\", 12, 50)\n",
    "print(\"Total Bus fare is:\", School_bus.fare())"
   ]
  },
  {
   "cell_type": "code",
   "execution_count": 45,
   "id": "c10a5803",
   "metadata": {},
   "outputs": [
    {
     "name": "stdout",
     "output_type": "stream",
     "text": [
      "<class '__main__.Bike'>\n"
     ]
    }
   ],
   "source": [
    "# 5. Check type :-\n",
    "class Vehicle:\n",
    "    def __init__(self, name, max_speed, mileage):\n",
    "        self.name=name\n",
    "        self.max_speed=max_speed\n",
    "        self.mileage=mileage\n",
    "class Bike(Vehicle):\n",
    "    pass\n",
    "bike=Bike(\"Pulsar\",\"115 km/h\",\"50-60 km/l\")\n",
    "print(type(bike))"
   ]
  },
  {
   "cell_type": "code",
   "execution_count": 46,
   "id": "8ffb7ec7",
   "metadata": {},
   "outputs": [
    {
     "name": "stdout",
     "output_type": "stream",
     "text": [
      "True\n"
     ]
    }
   ],
   "source": [
    "# 6. Check instance of class or not :-\n",
    "class Vehicle:\n",
    "    def __init__(self, name, mileage, capacity):\n",
    "        self.name = name\n",
    "        self.mileage = mileage\n",
    "        self.capacity = capacity\n",
    "class Bus(Vehicle):\n",
    "    pass\n",
    "School_bus = Bus(\"School Volvo\", 12, 50)\n",
    "print(isinstance(School_bus,Bus))"
   ]
  },
  {
   "cell_type": "code",
   "execution_count": 47,
   "id": "46603853",
   "metadata": {},
   "outputs": [
    {
     "name": "stdout",
     "output_type": "stream",
     "text": [
      "sum : 35\n",
      "mul : 585\n",
      "sub : 22\n",
      "div : 17.0\n"
     ]
    }
   ],
   "source": [
    "# Multi-Level inheritance :-\n",
    "# 1. \n",
    "class A:\n",
    "    def sum(self,a,b):\n",
    "        s=a+b\n",
    "        print(\"sum :\",s)\n",
    "class B(A):\n",
    "    def mul(self,x,y):\n",
    "        m=x*y\n",
    "        print(\"mul :\",m)\n",
    "class C(B):\n",
    "    def sub(self,p,q):\n",
    "        sub=p-q\n",
    "        print(\"sub :\",sub)\n",
    "class D(C):\n",
    "    def div(self,a,b):\n",
    "        d=a/b\n",
    "        print(\"div :\",d)\n",
    "result=D()\n",
    "result.sum(12,23)\n",
    "result.mul(13,45)\n",
    "result.sub(34,12)\n",
    "result.div(34,2)"
   ]
  },
  {
   "cell_type": "code",
   "execution_count": 48,
   "id": "faa1ec81",
   "metadata": {},
   "outputs": [
    {
     "name": "stdout",
     "output_type": "stream",
     "text": [
      "Grandma name : Birma Devi\n",
      "Mother name : Seema Devi\n",
      "Father name : Sahdev Sharma\n",
      "Son name : Dushyant Sharma\n"
     ]
    }
   ],
   "source": [
    "# 2.\n",
    "class Grandma:\n",
    "    grandmaname=\"Birma Devi\"\n",
    "    def __init__(self,grandmaname):\n",
    "        self.Grandmaname=gradmaname\n",
    "class Mother(Grandma):\n",
    "    mothername=\"Seema Devi\"\n",
    "    def __init__(self,mothername):\n",
    "        self.Mothername=mothername\n",
    "class Father(Mother):\n",
    "    fathername=\"Sahdev Sharma\"\n",
    "    def __init__(self,fathername):\n",
    "        self.Fathername=fathername\n",
    "class Son(Father):\n",
    "    sonname=\"Dushyant Sharma\"\n",
    "    def __init__(self,sonname):\n",
    "        self.Sonname=sonname\n",
    "        print('Grandma name :', self.grandmaname)\n",
    "        print(\"Mother name :\", self.mothername)\n",
    "        print(\"Father name :\", self.fathername)\n",
    "        print(\"Son name :\", self.sonname)\n",
    "Name=Son(\"Dushyant Sharma\")"
   ]
  },
  {
   "cell_type": "code",
   "execution_count": 49,
   "id": "b6e42107",
   "metadata": {},
   "outputs": [
    {
     "name": "stdout",
     "output_type": "stream",
     "text": [
      "Sum : 30\n",
      "Mul : 200\n",
      "Mod : 1\n",
      "Div : 12.0\n",
      "Sub : 22\n",
      "Area of rectangle : 816\n"
     ]
    }
   ],
   "source": [
    "# Hierarchy inheritance :-\n",
    "class A:\n",
    "    def sum(self,a,b):\n",
    "        s=a+b\n",
    "        print(\"Sum :\",s)\n",
    "class B(A):\n",
    "    def mul(self,x,y):\n",
    "        m=x*y\n",
    "        print(\"Mul :\",m)\n",
    "class C(A):\n",
    "    def sub(self,p,q):\n",
    "        sub=p-q\n",
    "        print(\"Sub :\",sub)\n",
    "class D(B):\n",
    "    def div(self,a,b):\n",
    "        d=a/b\n",
    "        print(\"Div :\",d)\n",
    "class E(B):\n",
    "    def mod(self,x,y):\n",
    "        mod=x%y\n",
    "        print(\"Mod :\",mod)\n",
    "class F(C):\n",
    "    def AR(self,l,b):\n",
    "        ar=l*b\n",
    "        print(\"Area of rectangle :\",ar)\n",
    "result=E()\n",
    "result.sum(10,20)\n",
    "result.mul(20,10)\n",
    "result.mod(23,2)\n",
    "result=D()\n",
    "result.div(24,2)\n",
    "result=F()\n",
    "result.sub(34,12)\n",
    "result.AR(24,34)"
   ]
  },
  {
   "cell_type": "code",
   "execution_count": 50,
   "id": "ceb41cd1",
   "metadata": {},
   "outputs": [
    {
     "name": "stdout",
     "output_type": "stream",
     "text": [
      "Sum = 57\n",
      "Mul = 6\n",
      "Sub = 30\n"
     ]
    }
   ],
   "source": [
    "# Multiple Inheritance :-\n",
    "class A:\n",
    "    def sum(self,a,b):\n",
    "        s=a+b\n",
    "        print(\"Sum =\",s)\n",
    "class B:\n",
    "    def mul(self,x,y):\n",
    "        m=x*y\n",
    "        print(\"Mul =\",m)\n",
    "class C(A,B):\n",
    "    def sub(self,a,b):\n",
    "        sub=a-b\n",
    "        print(\"Sub =\",sub)\n",
    "result=C()\n",
    "result.sum(23,34)\n",
    "result.mul(2,3)\n",
    "result.sub(40,10)"
   ]
  }
 ],
 "metadata": {
  "kernelspec": {
   "display_name": "Python 3 (ipykernel)",
   "language": "python",
   "name": "python3"
  },
  "language_info": {
   "codemirror_mode": {
    "name": "ipython",
    "version": 3
   },
   "file_extension": ".py",
   "mimetype": "text/x-python",
   "name": "python",
   "nbconvert_exporter": "python",
   "pygments_lexer": "ipython3",
   "version": "3.12.4"
  }
 },
 "nbformat": 4,
 "nbformat_minor": 5
}
